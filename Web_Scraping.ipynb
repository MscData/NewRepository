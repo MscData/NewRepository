{
  "nbformat": 4,
  "nbformat_minor": 0,
  "metadata": {
    "colab": {
      "provenance": [],
      "authorship_tag": "ABX9TyNwDut7PIR7rsQCITVj3ej1",
      "include_colab_link": true
    },
    "kernelspec": {
      "name": "python3",
      "display_name": "Python 3"
    },
    "language_info": {
      "name": "python"
    }
  },
  "cells": [
    {
      "cell_type": "markdown",
      "metadata": {
        "id": "view-in-github",
        "colab_type": "text"
      },
      "source": [
        "<a href=\"https://colab.research.google.com/github/MscData/NewRepository/blob/main/Web_Scraping.ipynb\" target=\"_parent\"><img src=\"https://colab.research.google.com/assets/colab-badge.svg\" alt=\"Open In Colab\"/></a>"
      ]
    },
    {
      "cell_type": "code",
      "execution_count": null,
      "metadata": {
        "colab": {
          "base_uri": "https://localhost:8080/"
        },
        "id": "AymMmwU_EbJE",
        "outputId": "8dcb3a9c-589b-4bad-dc18-2016c2692bef"
      },
      "outputs": [
        {
          "output_type": "stream",
          "name": "stdout",
          "text": [
            "Looking in indexes: https://pypi.org/simple, https://us-python.pkg.dev/colab-wheels/public/simple/\n",
            "Requirement already satisfied: beautifulsoup4 in /usr/local/lib/python3.7/dist-packages (4.6.3)\n"
          ]
        }
      ],
      "source": [
        "pip install beautifulsoup4"
      ]
    },
    {
      "cell_type": "code",
      "source": [
        "pip install requests"
      ],
      "metadata": {
        "colab": {
          "base_uri": "https://localhost:8080/"
        },
        "id": "xPSrQwSPEuKh",
        "outputId": "a30b106e-e788-49d8-d7c2-654429112924"
      },
      "execution_count": null,
      "outputs": [
        {
          "output_type": "stream",
          "name": "stdout",
          "text": [
            "Looking in indexes: https://pypi.org/simple, https://us-python.pkg.dev/colab-wheels/public/simple/\n",
            "Requirement already satisfied: requests in /usr/local/lib/python3.7/dist-packages (2.23.0)\n",
            "Requirement already satisfied: chardet<4,>=3.0.2 in /usr/local/lib/python3.7/dist-packages (from requests) (3.0.4)\n",
            "Requirement already satisfied: idna<3,>=2.5 in /usr/local/lib/python3.7/dist-packages (from requests) (2.10)\n",
            "Requirement already satisfied: urllib3!=1.25.0,!=1.25.1,<1.26,>=1.21.1 in /usr/local/lib/python3.7/dist-packages (from requests) (1.24.3)\n",
            "Requirement already satisfied: certifi>=2017.4.17 in /usr/local/lib/python3.7/dist-packages (from requests) (2022.6.15)\n"
          ]
        }
      ]
    },
    {
      "cell_type": "code",
      "source": [
        "# Importer les packages\n",
        "import requests\n",
        "from bs4 import BeautifulSoup\n",
        "import pandas as pd"
      ],
      "metadata": {
        "id": "0x8dNiQTEyf5"
      },
      "execution_count": null,
      "outputs": []
    },
    {
      "cell_type": "code",
      "source": [
        "# Saisir l'ur de la page\n",
        "url = \"http://feeds.bbci.co.uk/news/rss.xml\""
      ],
      "metadata": {
        "id": "9C7pjojUFI-5"
      },
      "execution_count": null,
      "outputs": []
    },
    {
      "cell_type": "code",
      "source": [
        "# Import le code de la page\n",
        "reponse = requests.get(url)\n",
        "soup=BeautifulSoup(reponse.text,\"html.parser\")\n",
        "#soup"
      ],
      "metadata": {
        "id": "TAR80CQNFXvY"
      },
      "execution_count": null,
      "outputs": []
    },
    {
      "cell_type": "code",
      "source": [
        "items = soup.findAll('item')\n"
      ],
      "metadata": {
        "id": "kMmlWz68GdqJ"
      },
      "execution_count": null,
      "outputs": []
    },
    {
      "cell_type": "code",
      "source": [
        "item = items[0]\n",
        "item"
      ],
      "metadata": {
        "colab": {
          "base_uri": "https://localhost:8080/"
        },
        "id": "79rjS897GvRI",
        "outputId": "6d861cf0-b547-4c2b-ed39-3781f9c6c9a2"
      },
      "execution_count": null,
      "outputs": [
        {
          "output_type": "execute_result",
          "data": {
            "text/plain": [
              "<item>\n",
              "<title><![CDATA[Treasury rejects U-turn on mini-budget despite turmoil]]></title>\n",
              "<description><![CDATA[Government departments are also being told to find cuts to help reduce spending, the BBC is told.]]></description>\n",
              "<link/>https://www.bbc.co.uk/news/uk-politics-63067163?at_medium=RSS&amp;at_campaign=KARANGA\n",
              "            <guid ispermalink=\"false\">https://www.bbc.co.uk/news/uk-politics-63067163</guid>\n",
              "<pubdate>Wed, 28 Sep 2022 22:04:01 GMT</pubdate>\n",
              "</item>"
            ]
          },
          "metadata": {},
          "execution_count": 39
        }
      ]
    },
    {
      "cell_type": "code",
      "source": [
        "#item.description.text"
      ],
      "metadata": {
        "id": "vvYrBsC4HEZ6"
      },
      "execution_count": null,
      "outputs": []
    },
    {
      "cell_type": "code",
      "source": [
        "new_items = []"
      ],
      "metadata": {
        "id": "TPucu51wHXhZ"
      },
      "execution_count": null,
      "outputs": []
    },
    {
      "cell_type": "code",
      "source": [
        "for i in items:\n",
        "  new_i = {}\n",
        "  new_i['title'] = i.title.text\n",
        "  new_i['description'] = i.description.text\n",
        "  new_i['pubdate'] = i.pubdate.text\n",
        "  new_items.append(new_i)"
      ],
      "metadata": {
        "id": "wTysjyBIHbU5"
      },
      "execution_count": null,
      "outputs": []
    },
    {
      "cell_type": "code",
      "source": [
        "#new_items"
      ],
      "metadata": {
        "id": "5Vpp6C-LIIkY"
      },
      "execution_count": null,
      "outputs": []
    },
    {
      "cell_type": "code",
      "source": [
        "# Convirtir la liste en base de donnée\n",
        "df = pd.DataFrame(new_items,columns=['title','description','pubdate'])\n",
        "df.head(10)"
      ],
      "metadata": {
        "colab": {
          "base_uri": "https://localhost:8080/",
          "height": 363
        },
        "id": "fq8mpYfqIuHQ",
        "outputId": "f1ad6d59-bab0-4f2f-8987-e885602e8caf"
      },
      "execution_count": null,
      "outputs": [
        {
          "output_type": "execute_result",
          "data": {
            "text/plain": [
              "                                               title  \\\n",
              "0  Treasury rejects U-turn on mini-budget despite...   \n",
              "1  'Toxic culture' of abuse at mental health hosp...   \n",
              "2  Mental health patient: ‘I’ve been treated like...   \n",
              "3  Alison Holt: Years of scandal, promises and fa...   \n",
              "4     Bank's £65bn move driven by pension fund fears   \n",
              "5  Nord Stream leak: West shores up pipeline secu...   \n",
              "6  Nazanin Zaghari-Ratcliffe cuts hair in support...   \n",
              "7  Rail strikes: Passengers urged not to travel d...   \n",
              "8           Stormzy: Diversity isn't just a buzzword   \n",
              "9    Heathrow Airport: Two planes in minor collision   \n",
              "\n",
              "                                         description  \\\n",
              "0  Government departments are also being told to ...   \n",
              "1  BBC Panorama goes undercover and finds patient...   \n",
              "2  A mental health hospital has traumatised a vul...   \n",
              "3  Olivia, 22, says the psychiatric system is mak...   \n",
              "4  The tax-cutting plans in Friday's mini-budget ...   \n",
              "5  The EU, US and Nato say the Nord Stream pipeli...   \n",
              "6  The gesture is in solidarity with protests in ...   \n",
              "7  Network Rail say just one in 10 services will ...   \n",
              "8  He urges the music industry to take the issue ...   \n",
              "9  The incident involving an Icelandair and Korea...   \n",
              "\n",
              "                         pubdate  \n",
              "0  Wed, 28 Sep 2022 21:04:11 GMT  \n",
              "1  Wed, 28 Sep 2022 11:58:42 GMT  \n",
              "2  Wed, 28 Sep 2022 12:31:24 GMT  \n",
              "3  Wed, 28 Sep 2022 12:22:01 GMT  \n",
              "4  Wed, 28 Sep 2022 21:49:32 GMT  \n",
              "5  Wed, 28 Sep 2022 19:47:21 GMT  \n",
              "6  Wed, 28 Sep 2022 16:45:28 GMT  \n",
              "7  Wed, 28 Sep 2022 17:35:42 GMT  \n",
              "8  Wed, 28 Sep 2022 19:46:46 GMT  \n",
              "9  Wed, 28 Sep 2022 21:20:17 GMT  "
            ],
            "text/html": [
              "\n",
              "  <div id=\"df-5239332d-751b-4758-ac5f-fdabfb28594e\">\n",
              "    <div class=\"colab-df-container\">\n",
              "      <div>\n",
              "<style scoped>\n",
              "    .dataframe tbody tr th:only-of-type {\n",
              "        vertical-align: middle;\n",
              "    }\n",
              "\n",
              "    .dataframe tbody tr th {\n",
              "        vertical-align: top;\n",
              "    }\n",
              "\n",
              "    .dataframe thead th {\n",
              "        text-align: right;\n",
              "    }\n",
              "</style>\n",
              "<table border=\"1\" class=\"dataframe\">\n",
              "  <thead>\n",
              "    <tr style=\"text-align: right;\">\n",
              "      <th></th>\n",
              "      <th>title</th>\n",
              "      <th>description</th>\n",
              "      <th>pubdate</th>\n",
              "    </tr>\n",
              "  </thead>\n",
              "  <tbody>\n",
              "    <tr>\n",
              "      <th>0</th>\n",
              "      <td>Treasury rejects U-turn on mini-budget despite...</td>\n",
              "      <td>Government departments are also being told to ...</td>\n",
              "      <td>Wed, 28 Sep 2022 21:04:11 GMT</td>\n",
              "    </tr>\n",
              "    <tr>\n",
              "      <th>1</th>\n",
              "      <td>'Toxic culture' of abuse at mental health hosp...</td>\n",
              "      <td>BBC Panorama goes undercover and finds patient...</td>\n",
              "      <td>Wed, 28 Sep 2022 11:58:42 GMT</td>\n",
              "    </tr>\n",
              "    <tr>\n",
              "      <th>2</th>\n",
              "      <td>Mental health patient: ‘I’ve been treated like...</td>\n",
              "      <td>A mental health hospital has traumatised a vul...</td>\n",
              "      <td>Wed, 28 Sep 2022 12:31:24 GMT</td>\n",
              "    </tr>\n",
              "    <tr>\n",
              "      <th>3</th>\n",
              "      <td>Alison Holt: Years of scandal, promises and fa...</td>\n",
              "      <td>Olivia, 22, says the psychiatric system is mak...</td>\n",
              "      <td>Wed, 28 Sep 2022 12:22:01 GMT</td>\n",
              "    </tr>\n",
              "    <tr>\n",
              "      <th>4</th>\n",
              "      <td>Bank's £65bn move driven by pension fund fears</td>\n",
              "      <td>The tax-cutting plans in Friday's mini-budget ...</td>\n",
              "      <td>Wed, 28 Sep 2022 21:49:32 GMT</td>\n",
              "    </tr>\n",
              "    <tr>\n",
              "      <th>5</th>\n",
              "      <td>Nord Stream leak: West shores up pipeline secu...</td>\n",
              "      <td>The EU, US and Nato say the Nord Stream pipeli...</td>\n",
              "      <td>Wed, 28 Sep 2022 19:47:21 GMT</td>\n",
              "    </tr>\n",
              "    <tr>\n",
              "      <th>6</th>\n",
              "      <td>Nazanin Zaghari-Ratcliffe cuts hair in support...</td>\n",
              "      <td>The gesture is in solidarity with protests in ...</td>\n",
              "      <td>Wed, 28 Sep 2022 16:45:28 GMT</td>\n",
              "    </tr>\n",
              "    <tr>\n",
              "      <th>7</th>\n",
              "      <td>Rail strikes: Passengers urged not to travel d...</td>\n",
              "      <td>Network Rail say just one in 10 services will ...</td>\n",
              "      <td>Wed, 28 Sep 2022 17:35:42 GMT</td>\n",
              "    </tr>\n",
              "    <tr>\n",
              "      <th>8</th>\n",
              "      <td>Stormzy: Diversity isn't just a buzzword</td>\n",
              "      <td>He urges the music industry to take the issue ...</td>\n",
              "      <td>Wed, 28 Sep 2022 19:46:46 GMT</td>\n",
              "    </tr>\n",
              "    <tr>\n",
              "      <th>9</th>\n",
              "      <td>Heathrow Airport: Two planes in minor collision</td>\n",
              "      <td>The incident involving an Icelandair and Korea...</td>\n",
              "      <td>Wed, 28 Sep 2022 21:20:17 GMT</td>\n",
              "    </tr>\n",
              "  </tbody>\n",
              "</table>\n",
              "</div>\n",
              "      <button class=\"colab-df-convert\" onclick=\"convertToInteractive('df-5239332d-751b-4758-ac5f-fdabfb28594e')\"\n",
              "              title=\"Convert this dataframe to an interactive table.\"\n",
              "              style=\"display:none;\">\n",
              "        \n",
              "  <svg xmlns=\"http://www.w3.org/2000/svg\" height=\"24px\"viewBox=\"0 0 24 24\"\n",
              "       width=\"24px\">\n",
              "    <path d=\"M0 0h24v24H0V0z\" fill=\"none\"/>\n",
              "    <path d=\"M18.56 5.44l.94 2.06.94-2.06 2.06-.94-2.06-.94-.94-2.06-.94 2.06-2.06.94zm-11 1L8.5 8.5l.94-2.06 2.06-.94-2.06-.94L8.5 2.5l-.94 2.06-2.06.94zm10 10l.94 2.06.94-2.06 2.06-.94-2.06-.94-.94-2.06-.94 2.06-2.06.94z\"/><path d=\"M17.41 7.96l-1.37-1.37c-.4-.4-.92-.59-1.43-.59-.52 0-1.04.2-1.43.59L10.3 9.45l-7.72 7.72c-.78.78-.78 2.05 0 2.83L4 21.41c.39.39.9.59 1.41.59.51 0 1.02-.2 1.41-.59l7.78-7.78 2.81-2.81c.8-.78.8-2.07 0-2.86zM5.41 20L4 18.59l7.72-7.72 1.47 1.35L5.41 20z\"/>\n",
              "  </svg>\n",
              "      </button>\n",
              "      \n",
              "  <style>\n",
              "    .colab-df-container {\n",
              "      display:flex;\n",
              "      flex-wrap:wrap;\n",
              "      gap: 12px;\n",
              "    }\n",
              "\n",
              "    .colab-df-convert {\n",
              "      background-color: #E8F0FE;\n",
              "      border: none;\n",
              "      border-radius: 50%;\n",
              "      cursor: pointer;\n",
              "      display: none;\n",
              "      fill: #1967D2;\n",
              "      height: 32px;\n",
              "      padding: 0 0 0 0;\n",
              "      width: 32px;\n",
              "    }\n",
              "\n",
              "    .colab-df-convert:hover {\n",
              "      background-color: #E2EBFA;\n",
              "      box-shadow: 0px 1px 2px rgba(60, 64, 67, 0.3), 0px 1px 3px 1px rgba(60, 64, 67, 0.15);\n",
              "      fill: #174EA6;\n",
              "    }\n",
              "\n",
              "    [theme=dark] .colab-df-convert {\n",
              "      background-color: #3B4455;\n",
              "      fill: #D2E3FC;\n",
              "    }\n",
              "\n",
              "    [theme=dark] .colab-df-convert:hover {\n",
              "      background-color: #434B5C;\n",
              "      box-shadow: 0px 1px 3px 1px rgba(0, 0, 0, 0.15);\n",
              "      filter: drop-shadow(0px 1px 2px rgba(0, 0, 0, 0.3));\n",
              "      fill: #FFFFFF;\n",
              "    }\n",
              "  </style>\n",
              "\n",
              "      <script>\n",
              "        const buttonEl =\n",
              "          document.querySelector('#df-5239332d-751b-4758-ac5f-fdabfb28594e button.colab-df-convert');\n",
              "        buttonEl.style.display =\n",
              "          google.colab.kernel.accessAllowed ? 'block' : 'none';\n",
              "\n",
              "        async function convertToInteractive(key) {\n",
              "          const element = document.querySelector('#df-5239332d-751b-4758-ac5f-fdabfb28594e');\n",
              "          const dataTable =\n",
              "            await google.colab.kernel.invokeFunction('convertToInteractive',\n",
              "                                                     [key], {});\n",
              "          if (!dataTable) return;\n",
              "\n",
              "          const docLinkHtml = 'Like what you see? Visit the ' +\n",
              "            '<a target=\"_blank\" href=https://colab.research.google.com/notebooks/data_table.ipynb>data table notebook</a>'\n",
              "            + ' to learn more about interactive tables.';\n",
              "          element.innerHTML = '';\n",
              "          dataTable['output_type'] = 'display_data';\n",
              "          await google.colab.output.renderOutput(dataTable, element);\n",
              "          const docLink = document.createElement('div');\n",
              "          docLink.innerHTML = docLinkHtml;\n",
              "          element.appendChild(docLink);\n",
              "        }\n",
              "      </script>\n",
              "    </div>\n",
              "  </div>\n",
              "  "
            ]
          },
          "metadata": {},
          "execution_count": 25
        }
      ]
    },
    {
      "cell_type": "code",
      "source": [
        "from numpy import False_\n",
        "# Generer un ficher Csv\n",
        "df.to_csv('Web scraping.csv', index=False, encoding='utf-8')"
      ],
      "metadata": {
        "id": "bdU9DmGZJRdc"
      },
      "execution_count": null,
      "outputs": []
    }
  ]
}